{
 "cells": [
  {
   "cell_type": "code",
   "execution_count": 80,
   "metadata": {},
   "outputs": [
    {
     "name": "stderr",
     "output_type": "stream",
     "text": [
      "Lightning automatically upgraded your loaded checkpoint from v1.5.4 to v2.1.3. To apply the upgrade to your files permanently, run `python -m pytorch_lightning.utilities.upgrade_checkpoint ../../../../../home/eswar/.cache/torch/whisperx-vad-segmentation.bin`\n"
     ]
    },
    {
     "name": "stdout",
     "output_type": "stream",
     "text": [
      "No language specified, language will be first be detected for each audio file (increases inference time).\n",
      "Model was trained with pyannote.audio 0.0.1, yours is 3.1.1. Bad things might happen unless you revert pyannote.audio to 0.x.\n",
      "Model was trained with torch 1.10.0+cu102, yours is 2.1.2+cu121. Bad things might happen unless you revert torch to 1.x.\n",
      "Running Lyric Extraction [en]: harvard.wav\n",
      "Transcribing\n",
      "{'segments': [{'text': ' The stale smell of old beer lingers. It takes heat to bring out the odor. A cold dip restores health and zest. A salt pickle tastes fine with ham. Tacos al pastor are my favorite. A zestful food is the hot cross bun.', 'start': 1.254, 'end': 17.824}], 'language': 'en'}\n",
      "[\n",
      "    {\n",
      "        \"start_time\": 1.254,\n",
      "        \"end_time\": 17.824,\n",
      "        \"lyric\": \" The stale smell of old beer lingers. It takes heat to bring out the odor. A cold dip restores health and zest. A salt pickle tastes fine with ham. Tacos al pastor are my favorite. A zestful food is the hot cross bun.\"\n",
      "    }\n",
      "]\n"
     ]
    }
   ],
   "source": [
    "# %%\n",
    "import os, subprocess, sys, json, shutil\n",
    "from time import time\n",
    "# from ai4bharat.transliteration import XlitEngine\n",
    "import os\n",
    "import whisper\n",
    "import os\n",
    "import whisperx\n",
    "import gc, tqdm\n",
    "from pydub import AudioSegment\n",
    "import cv2\n",
    "import numpy as np\n",
    "import subprocess, json\n",
    "import yt_dlp as youtube_dl\n",
    "import requests\n",
    "from time import time, sleep\n",
    "IN_COLAB = 'google.colab' in sys.modules\n",
    "# Disable GPU\n",
    "# os.environ['CUDA_VISIBLE_DEVICES'] = ''\n",
    "\n",
    "class lyric_extraction:\n",
    "    def __init__(self, model_): # ignore the model - set based on platform\n",
    "        self.device = 'cuda'\n",
    "        self.batch_size = 16\n",
    "        self.compute_type = 'float16' if IN_COLAB else 'int8'\n",
    "        self.language_to_iso = {\n",
    "            'Assamese': 'as',\n",
    "            'Bengali': 'bn',\n",
    "            'English': 'en',\n",
    "            'Gujarati': 'gu',\n",
    "            'Hindi': 'hi',\n",
    "            'Kannada': 'kn',\n",
    "            'Malayalam': 'ml',\n",
    "            'Marathi': 'mr',\n",
    "            'Punjabi': 'pa',\n",
    "            'Sanskrit': 'si',\n",
    "            'Tamil': 'ta',\n",
    "            'Telugu': 'tg',\n",
    "            'Urdu': 'ur',\n",
    "        }\n",
    "        for key, value in list(self.language_to_iso.items()):\n",
    "            self.language_to_iso[key.lower()] = value\n",
    "        self.model = whisperx.load_model('large-v2' if self.compute_type == 'float16' else 'medium', self.device, compute_type = self.compute_type)\n",
    "    def run_vocal_extraction(self, track_path, language):\n",
    "        print(f\"Running Lyric Extraction [{language}]:\", track_path)\n",
    "        # res = whisper.transcribe(self.model, track_path)\n",
    "        if len(language) > 2:\n",
    "            language = self.language_to_iso[language]\n",
    "        \n",
    "        audio = whisperx.load_audio(track_path)\n",
    "        print('Transcribing')\n",
    "        audio = whisperx.load_audio(track_path)\n",
    "        if language.strip().lower() != 'auto':\n",
    "            res = self.model.transcribe(audio, language = language)\n",
    "        else:\n",
    "            res = self.model.transcribe(audio)\n",
    "        print(res)\n",
    "        lyrics = [\n",
    "            {\n",
    "                \"start_time\": segment['start'],\n",
    "                \"end_time\": segment['end'],\n",
    "                \"lyric\": segment['text']\n",
    "            }\n",
    "                for segment in res['segments']\n",
    "        ]\n",
    "        return lyrics\n",
    "\n",
    "    \n",
    "if __name__ == '__main__':\n",
    "    lr = lyric_extraction('')\n",
    "    res = lr.run_vocal_extraction('harvard.wav', language = 'en')\n",
    "    print(json.dumps(res, indent = 4))"
   ]
  },
  {
   "cell_type": "code",
   "execution_count": 78,
   "metadata": {},
   "outputs": [],
   "source": [
    "# def download_audio(id):\n",
    "#     yt_url = f\"https://www.youtube.com/watch?v={id}\"\n",
    "#     video_info = youtube_dl.YoutubeDL().extract_info(url = yt_url, download=False)\n",
    "#     fname = os.path.join('yt_dump', f'{id}.mp3')\n",
    "#     options = {\n",
    "#         'format': 'bestaudio/best',\n",
    "#         'keepvideo': False,\n",
    "#         'outtmpl': fname,\n",
    "#     }\n",
    "#     with youtube_dl.YoutubeDL(options) as ydl:\n",
    "#         ydl.download([video_info['webpage_url']])\n",
    "#     return fname"
   ]
  },
  {
   "cell_type": "code",
   "execution_count": 79,
   "metadata": {},
   "outputs": [
    {
     "name": "stdout",
     "output_type": "stream",
     "text": [
      "[youtube] Extracting URL: https://www.youtube.com/watch?v=wr9M-CoxP7A\n",
      "[youtube] wr9M-CoxP7A: Downloading webpage\n",
      "[youtube] wr9M-CoxP7A: Downloading ios player API JSON\n",
      "[youtube] wr9M-CoxP7A: Downloading android player API JSON\n",
      "[youtube] wr9M-CoxP7A: Downloading m3u8 information\n",
      "[youtube] Extracting URL: https://www.youtube.com/watch?v=wr9M-CoxP7A\n",
      "[youtube] wr9M-CoxP7A: Downloading webpage\n",
      "[youtube] wr9M-CoxP7A: Downloading ios player API JSON\n",
      "[youtube] wr9M-CoxP7A: Downloading android player API JSON\n",
      "[youtube] wr9M-CoxP7A: Downloading m3u8 information\n",
      "[info] wr9M-CoxP7A: Downloading 1 format(s): 251\n",
      "[download] yt_dump/wr9M-CoxP7A.mp3 has already been downloaded\n",
      "[download] 100% of    3.49MiB\n"
     ]
    },
    {
     "data": {
      "text/plain": [
       "'yt_dump/wr9M-CoxP7A.mp3'"
      ]
     },
     "execution_count": 79,
     "metadata": {},
     "output_type": "execute_result"
    }
   ],
   "source": [
    "# download_audio('wr9M-CoxP7A')"
   ]
  }
 ],
 "metadata": {
  "kernelspec": {
   "display_name": "Python 3",
   "language": "python",
   "name": "python3"
  },
  "language_info": {
   "codemirror_mode": {
    "name": "ipython",
    "version": 3
   },
   "file_extension": ".py",
   "mimetype": "text/x-python",
   "name": "python",
   "nbconvert_exporter": "python",
   "pygments_lexer": "ipython3",
   "version": "3.11.5"
  }
 },
 "nbformat": 4,
 "nbformat_minor": 2
}
